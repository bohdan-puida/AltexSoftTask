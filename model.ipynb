{
 "cells": [
  {
   "cell_type": "code",
   "execution_count": 404,
   "metadata": {},
   "outputs": [],
   "source": [
    "import numpy as np\n",
    "import pandas as pd"
   ]
  },
  {
   "cell_type": "code",
   "execution_count": 405,
   "metadata": {},
   "outputs": [],
   "source": [
    "train = pd.read_csv('/home/bogan/Загрузки/train.csv')\n",
    "test = pd.read_csv('/home/bogan/Загрузки/val.csv')"
   ]
  },
  {
   "cell_type": "code",
   "execution_count": 406,
   "metadata": {},
   "outputs": [],
   "source": [
    "train = train.sample(frac=1)"
   ]
  },
  {
   "cell_type": "code",
   "execution_count": 407,
   "metadata": {},
   "outputs": [],
   "source": [
    "test = test.sample(frac=1)"
   ]
  },
  {
   "cell_type": "code",
   "execution_count": null,
   "metadata": {},
   "outputs": [],
   "source": []
  },
  {
   "cell_type": "code",
   "execution_count": 408,
   "metadata": {},
   "outputs": [],
   "source": [
    "train[train == 'na'] = np.nan"
   ]
  },
  {
   "cell_type": "code",
   "execution_count": 409,
   "metadata": {},
   "outputs": [],
   "source": [
    "test[test == \"na\"] = np.nan"
   ]
  },
  {
   "cell_type": "code",
   "execution_count": 410,
   "metadata": {},
   "outputs": [],
   "source": [
    "train = train.drop(['rowc', 'colc', 'ra', 'dec'], axis=1)"
   ]
  },
  {
   "cell_type": "code",
   "execution_count": 411,
   "metadata": {},
   "outputs": [],
   "source": [
    "test = test.drop(['rowc', 'colc', 'ra', 'dec'], axis=1)"
   ]
  },
  {
   "cell_type": "code",
   "execution_count": 412,
   "metadata": {},
   "outputs": [],
   "source": [
    "data = train.iloc[:, 1:39]"
   ]
  },
  {
   "cell_type": "code",
   "execution_count": null,
   "metadata": {},
   "outputs": [],
   "source": []
  },
  {
   "cell_type": "code",
   "execution_count": 413,
   "metadata": {},
   "outputs": [],
   "source": [
    "y = train.iloc[:, 39]"
   ]
  },
  {
   "cell_type": "code",
   "execution_count": 414,
   "metadata": {},
   "outputs": [],
   "source": [
    "def norm_to_gauss(df):\n",
    "    return (df - df.mean()) * 1.0 / (df.var())"
   ]
  },
  {
   "cell_type": "code",
   "execution_count": 416,
   "metadata": {},
   "outputs": [],
   "source": [
    "data = data.apply(np.float64)"
   ]
  },
  {
   "cell_type": "code",
   "execution_count": 417,
   "metadata": {},
   "outputs": [],
   "source": [
    "data = data.apply(norm_to_gauss)"
   ]
  },
  {
   "cell_type": "code",
   "execution_count": null,
   "metadata": {},
   "outputs": [],
   "source": []
  },
  {
   "cell_type": "code",
   "execution_count": 418,
   "metadata": {},
   "outputs": [],
   "source": [
    "data_test = test.iloc[:, 1:39]"
   ]
  },
  {
   "cell_type": "code",
   "execution_count": 419,
   "metadata": {},
   "outputs": [],
   "source": [
    "data_test = data_test.apply(np.float64)"
   ]
  },
  {
   "cell_type": "code",
   "execution_count": 420,
   "metadata": {},
   "outputs": [],
   "source": [
    "data_test = data_test.apply(norm_to_gauss)"
   ]
  },
  {
   "cell_type": "code",
   "execution_count": null,
   "metadata": {},
   "outputs": [],
   "source": []
  },
  {
   "cell_type": "code",
   "execution_count": 421,
   "metadata": {},
   "outputs": [],
   "source": [
    "import sklearn"
   ]
  },
  {
   "cell_type": "code",
   "execution_count": 422,
   "metadata": {},
   "outputs": [],
   "source": [
    "from sklearn.impute import MICEImputer"
   ]
  },
  {
   "cell_type": "code",
   "execution_count": 423,
   "metadata": {},
   "outputs": [],
   "source": [
    "scaler = MICEImputer(n_imputations=10)"
   ]
  },
  {
   "cell_type": "code",
   "execution_count": 424,
   "metadata": {},
   "outputs": [
    {
     "data": {
      "text/plain": [
       "MICEImputer(imputation_order='ascending', initial_strategy='mean',\n",
       "      max_value=None, min_value=None, missing_values='NaN', n_burn_in=10,\n",
       "      n_imputations=10, n_nearest_features=None, predictor=None,\n",
       "      random_state=None, verbose=False)"
      ]
     },
     "execution_count": 424,
     "metadata": {},
     "output_type": "execute_result"
    }
   ],
   "source": [
    "scaler.fit(data)"
   ]
  },
  {
   "cell_type": "code",
   "execution_count": 425,
   "metadata": {},
   "outputs": [],
   "source": [
    "data = scaler.transform(data)"
   ]
  },
  {
   "cell_type": "code",
   "execution_count": 426,
   "metadata": {},
   "outputs": [],
   "source": [
    "data_test = scaler.transform(data_test)"
   ]
  },
  {
   "cell_type": "code",
   "execution_count": null,
   "metadata": {},
   "outputs": [],
   "source": []
  },
  {
   "cell_type": "code",
   "execution_count": null,
   "metadata": {},
   "outputs": [],
   "source": []
  },
  {
   "cell_type": "code",
   "execution_count": 427,
   "metadata": {},
   "outputs": [],
   "source": [
    "def argmax(preds):\n",
    "    return np.asarray([np.argmax(line) for line in preds])"
   ]
  },
  {
   "cell_type": "code",
   "execution_count": 428,
   "metadata": {},
   "outputs": [],
   "source": [
    "from keras.utils.np_utils import to_categorical   \n",
    "\n",
    "cl = to_categorical(y, num_classes=3)"
   ]
  },
  {
   "cell_type": "code",
   "execution_count": 429,
   "metadata": {},
   "outputs": [],
   "source": [
    "from keras.layers.advanced_activations import *"
   ]
  },
  {
   "cell_type": "code",
   "execution_count": 204,
   "metadata": {},
   "outputs": [],
   "source": []
  },
  {
   "cell_type": "code",
   "execution_count": null,
   "metadata": {},
   "outputs": [],
   "source": []
  },
  {
   "cell_type": "code",
   "execution_count": null,
   "metadata": {},
   "outputs": [],
   "source": []
  },
  {
   "cell_type": "code",
   "execution_count": null,
   "metadata": {},
   "outputs": [],
   "source": []
  },
  {
   "cell_type": "code",
   "execution_count": null,
   "metadata": {},
   "outputs": [],
   "source": []
  },
  {
   "cell_type": "code",
   "execution_count": 432,
   "metadata": {},
   "outputs": [
    {
     "name": "stderr",
     "output_type": "stream",
     "text": [
      "/usr/local/lib/python3.5/dist-packages/ipykernel_launcher.py:5: UserWarning: Update your `Dense` call to the Keras 2 API: `Dense(256, input_dim=38, activation=<keras.lay..., kernel_initializer=\"uniform\")`\n",
      "  \"\"\"\n",
      "/usr/local/lib/python3.5/dist-packages/keras/activations.py:115: UserWarning: Do not pass a layer instance (such as PReLU) as the activation argument of another layer. Instead, advanced activation layers should be used just like any other layer in a model.\n",
      "  identifier=identifier.__class__.__name__))\n",
      "/usr/local/lib/python3.5/dist-packages/ipykernel_launcher.py:7: UserWarning: Update your `Dense` call to the Keras 2 API: `Dense(128, activation=<keras.lay..., kernel_initializer=\"uniform\")`\n",
      "  import sys\n",
      "/usr/local/lib/python3.5/dist-packages/ipykernel_launcher.py:9: UserWarning: Update your `Dense` call to the Keras 2 API: `Dense(64, activation=<keras.lay..., kernel_initializer=\"uniform\")`\n",
      "  if __name__ == '__main__':\n",
      "/usr/local/lib/python3.5/dist-packages/ipykernel_launcher.py:11: UserWarning: Update your `Dense` call to the Keras 2 API: `Dense(128, activation=<keras.lay..., kernel_initializer=\"uniform\")`\n",
      "  # This is added back by InteractiveShellApp.init_path()\n",
      "/usr/local/lib/python3.5/dist-packages/ipykernel_launcher.py:13: UserWarning: Update your `Dense` call to the Keras 2 API: `Dense(64, activation=<keras.lay..., kernel_initializer=\"uniform\")`\n",
      "  del sys.path[0]\n",
      "/usr/local/lib/python3.5/dist-packages/ipykernel_launcher.py:15: UserWarning: Update your `Dense` call to the Keras 2 API: `Dense(128, activation=<keras.lay..., kernel_initializer=\"uniform\")`\n",
      "  from ipykernel import kernelapp as app\n",
      "/usr/local/lib/python3.5/dist-packages/ipykernel_launcher.py:17: UserWarning: Update your `Dense` call to the Keras 2 API: `Dense(64, activation=<keras.lay..., kernel_initializer=\"uniform\")`\n",
      "/usr/local/lib/python3.5/dist-packages/ipykernel_launcher.py:19: UserWarning: Update your `Dense` call to the Keras 2 API: `Dense(9, activation=<keras.lay..., kernel_initializer=\"uniform\")`\n",
      "/usr/local/lib/python3.5/dist-packages/ipykernel_launcher.py:20: UserWarning: Update your `Dense` call to the Keras 2 API: `Dense(3, activation=\"sigmoid\", kernel_initializer=\"uniform\")`\n"
     ]
    },
    {
     "name": "stdout",
     "output_type": "stream",
     "text": [
      "Epoch 1/15\n",
      "30000/30000 [==============================] - 10s 334us/step - loss: 0.6090 - acc: 0.6805\n",
      "Epoch 2/15\n",
      "30000/30000 [==============================] - 1s 41us/step - loss: 0.5400 - acc: 0.7213\n",
      "Epoch 3/15\n",
      "30000/30000 [==============================] - 1s 34us/step - loss: 0.4499 - acc: 0.7690\n",
      "Epoch 4/15\n",
      "30000/30000 [==============================] - 1s 35us/step - loss: 0.3884 - acc: 0.8434\n",
      "Epoch 5/15\n",
      "30000/30000 [==============================] - 1s 34us/step - loss: 0.3586 - acc: 0.8606\n",
      "Epoch 6/15\n",
      "30000/30000 [==============================] - 1s 33us/step - loss: 0.3425 - acc: 0.8681\n",
      "Epoch 7/15\n",
      "30000/30000 [==============================] - 1s 34us/step - loss: 0.3304 - acc: 0.8715\n",
      "Epoch 8/15\n",
      "30000/30000 [==============================] - 1s 34us/step - loss: 0.3244 - acc: 0.8744\n",
      "Epoch 9/15\n",
      "30000/30000 [==============================] - 1s 33us/step - loss: 0.3191 - acc: 0.8771\n",
      "Epoch 10/15\n",
      "30000/30000 [==============================] - 1s 34us/step - loss: 0.3137 - acc: 0.8805\n",
      "Epoch 11/15\n",
      "30000/30000 [==============================] - 1s 36us/step - loss: 0.3091 - acc: 0.8823\n",
      "Epoch 12/15\n",
      "30000/30000 [==============================] - 1s 35us/step - loss: 0.3054 - acc: 0.8845\n",
      "Epoch 13/15\n",
      "30000/30000 [==============================] - 1s 35us/step - loss: 0.3030 - acc: 0.8838\n",
      "Epoch 14/15\n",
      "30000/30000 [==============================] - 1s 35us/step - loss: 0.3010 - acc: 0.8852\n",
      "Epoch 15/15\n",
      "30000/30000 [==============================] - 1s 36us/step - loss: 0.2989 - acc: 0.8864\n"
     ]
    }
   ],
   "source": [
    "from keras.models import Sequential\n",
    "from keras.layers import Dense, Dropout\n",
    "model = Sequential()\n",
    "\n",
    "model.add(Dense(256, init='uniform', input_dim=38, activation=PReLU()))\n",
    "model.add(Dropout(0.5))\n",
    "model.add(Dense(128, init='uniform', activation=PReLU()))\n",
    "model.add(Dropout(0.3))\n",
    "model.add(Dense(64, init='uniform', activation=PReLU()))\n",
    "model.add(Dropout(0.2))\n",
    "model.add(Dense(128, init='uniform', activation=PReLU()))\n",
    "model.add(Dropout(0.2))\n",
    "model.add(Dense(64, init='uniform', activation=PReLU()))\n",
    "model.add(Dropout(0.2))\n",
    "model.add(Dense(128, init='uniform', activation=PReLU()))\n",
    "model.add(Dropout(0.2))\n",
    "model.add(Dense(64, init='uniform', activation=PReLU()))\n",
    "model.add(Dropout(0.2))\n",
    "model.add(Dense(9, init='uniform', activation=PReLU()))\n",
    "model.add(Dense(3, init='uniform', activation='sigmoid'))\n",
    "\n",
    "model.compile(loss='binary_crossentropy', optimizer='nadam', metrics=['accuracy'])\n",
    "hist = model.fit(data, cl, epochs=15, batch_size=500)\n",
    "\n",
    "predictions = argmax(model.predict(data_test))\n"
   ]
  },
  {
   "cell_type": "code",
   "execution_count": 434,
   "metadata": {},
   "outputs": [
    {
     "data": {
      "text/plain": [
       "0.8077173308577582"
      ]
     },
     "execution_count": 434,
     "metadata": {},
     "output_type": "execute_result"
    }
   ],
   "source": [
    "\n",
    "f1_score(true, predictions, average=\"macro\")"
   ]
  },
  {
   "cell_type": "code",
   "execution_count": null,
   "metadata": {},
   "outputs": [],
   "source": []
  },
  {
   "cell_type": "code",
   "execution_count": null,
   "metadata": {},
   "outputs": [],
   "source": []
  },
  {
   "cell_type": "code",
   "execution_count": null,
   "metadata": {},
   "outputs": [],
   "source": [
    "model.summary()"
   ]
  },
  {
   "cell_type": "code",
   "execution_count": 430,
   "metadata": {},
   "outputs": [],
   "source": [
    "true = np.asarray(test.iloc[:, 39])"
   ]
  },
  {
   "cell_type": "code",
   "execution_count": null,
   "metadata": {},
   "outputs": [],
   "source": []
  },
  {
   "cell_type": "code",
   "execution_count": 27,
   "metadata": {},
   "outputs": [],
   "source": [
    "\n",
    "df = pd.DataFrame(data={'objid': test.iloc[:, 0], 'prediction': predictions})"
   ]
  },
  {
   "cell_type": "code",
   "execution_count": null,
   "metadata": {},
   "outputs": [],
   "source": []
  },
  {
   "cell_type": "code",
   "execution_count": 29,
   "metadata": {},
   "outputs": [],
   "source": [
    "df.to_csv('predictions.csv', encoding='utf-8', index=False)"
   ]
  },
  {
   "cell_type": "code",
   "execution_count": 33,
   "metadata": {},
   "outputs": [],
   "source": []
  },
  {
   "cell_type": "code",
   "execution_count": null,
   "metadata": {},
   "outputs": [],
   "source": []
  },
  {
   "cell_type": "code",
   "execution_count": null,
   "metadata": {},
   "outputs": [],
   "source": []
  },
  {
   "cell_type": "code",
   "execution_count": 36,
   "metadata": {},
   "outputs": [],
   "source": []
  },
  {
   "cell_type": "code",
   "execution_count": null,
   "metadata": {},
   "outputs": [],
   "source": []
  },
  {
   "cell_type": "code",
   "execution_count": null,
   "metadata": {},
   "outputs": [],
   "source": []
  }
 ],
 "metadata": {
  "kernelspec": {
   "display_name": "Python 3",
   "language": "python",
   "name": "python3"
  },
  "language_info": {
   "codemirror_mode": {
    "name": "ipython",
    "version": 3
   },
   "file_extension": ".py",
   "mimetype": "text/x-python",
   "name": "python",
   "nbconvert_exporter": "python",
   "pygments_lexer": "ipython3",
   "version": "3.5.2"
  }
 },
 "nbformat": 4,
 "nbformat_minor": 2
}
