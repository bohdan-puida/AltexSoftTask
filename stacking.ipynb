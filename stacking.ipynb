{
 "cells": [
  {
   "cell_type": "code",
   "execution_count": 444,
   "metadata": {
    "colab": {
     "autoexec": {
      "startup": false,
      "wait_interval": 0
     },
     "base_uri": "https://localhost:8080/",
     "height": 37
    },
    "colab_type": "code",
    "executionInfo": {
     "elapsed": 596,
     "status": "ok",
     "timestamp": 1531324484501,
     "user": {
      "displayName": "Богдан Пуйда",
      "photoUrl": "https://lh3.googleusercontent.com/a/default-user=s128",
      "userId": "102625359743870844302"
     },
     "user_tz": -180
    },
    "id": "gje8fU5d1IxA",
    "outputId": "b2d2b3e1-6242-4d29-9199-a9dc8e048688"
   },
   "outputs": [],
   "source": [
    "import pandas as pd\n",
    "import numpy as np"
   ]
  },
  {
   "cell_type": "code",
   "execution_count": 445,
   "metadata": {
    "colab": {
     "autoexec": {
      "startup": false,
      "wait_interval": 0
     },
     "base_uri": "https://localhost:8080/",
     "height": 51
    },
    "colab_type": "code",
    "executionInfo": {
     "elapsed": 1599,
     "status": "ok",
     "timestamp": 1531324927763,
     "user": {
      "displayName": "Богдан Пуйда",
      "photoUrl": "https://lh3.googleusercontent.com/a/default-user=s128",
      "userId": "102625359743870844302"
     },
     "user_tz": -180
    },
    "id": "70iSJF66745U",
    "outputId": "9d78a0c3-42dd-4fd3-d2fd-7b260c135226"
   },
   "outputs": [],
   "source": [
    "train = pd.read_csv(\"train.csv\")\n",
    "test = pd.read_csv(\"val.csv\")\n",
    "unlabeled = pd.read_csv(\"unlabeled.csv\")"
   ]
  },
  {
   "cell_type": "code",
   "execution_count": 446,
   "metadata": {},
   "outputs": [],
   "source": [
    "from keras import backend as K\n",
    "\n",
    "def f1(y_true, y_pred):\n",
    "    def recall(y_true, y_pred):\n",
    "        true_positives = K.sum(K.round(K.clip(y_true * y_pred, 0, 1)))\n",
    "        possible_positives = K.sum(K.round(K.clip(y_true, 0, 1)))\n",
    "        recall = true_positives / (possible_positives + K.epsilon())\n",
    "        return recall\n",
    "\n",
    "    def precision(y_true, y_pred):\n",
    "        true_positives = K.sum(K.round(K.clip(y_true * y_pred, 0, 1)))\n",
    "        predicted_positives = K.sum(K.round(K.clip(y_pred, 0, 1)))\n",
    "        precision = true_positives / (predicted_positives + K.epsilon())\n",
    "        return precision\n",
    "    precision = precision(y_true, y_pred)\n",
    "    recall = recall(y_true, y_pred)\n",
    "    return 2 * ((precision * recall) / (precision + recall + K.epsilon()))"
   ]
  },
  {
   "cell_type": "code",
   "execution_count": 447,
   "metadata": {},
   "outputs": [],
   "source": [
    "unlabeled[unlabeled == \"na\"] = np.nan"
   ]
  },
  {
   "cell_type": "code",
   "execution_count": 448,
   "metadata": {
    "colab": {
     "autoexec": {
      "startup": false,
      "wait_interval": 0
     },
     "base_uri": "https://localhost:8080/",
     "height": 72
    },
    "colab_type": "code",
    "executionInfo": {
     "elapsed": 80353,
     "status": "ok",
     "timestamp": 1531324838291,
     "user": {
      "displayName": "Богдан Пуйда",
      "photoUrl": "https://lh3.googleusercontent.com/a/default-user=s128",
      "userId": "102625359743870844302"
     },
     "user_tz": -180
    },
    "id": "zOWB9eIMDdGz",
    "outputId": "8eed29ea-9bb7-458a-fa78-e92b9608b951"
   },
   "outputs": [],
   "source": [
    "train = train.sample(frac=1)"
   ]
  },
  {
   "cell_type": "code",
   "execution_count": 449,
   "metadata": {
    "colab": {
     "autoexec": {
      "startup": false,
      "wait_interval": 0
     },
     "base_uri": "https://localhost:8080/",
     "height": 34
    },
    "colab_type": "code",
    "executionInfo": {
     "elapsed": 1594,
     "status": "ok",
     "timestamp": 1531324846253,
     "user": {
      "displayName": "Богдан Пуйда",
      "photoUrl": "https://lh3.googleusercontent.com/a/default-user=s128",
      "userId": "102625359743870844302"
     },
     "user_tz": -180
    },
    "id": "HZo0fOAgDX0i",
    "outputId": "929b0ed5-0b7a-475a-a8bb-058980c6dfcb"
   },
   "outputs": [],
   "source": [
    "test = test.sample(frac=1)"
   ]
  },
  {
   "cell_type": "code",
   "execution_count": 450,
   "metadata": {},
   "outputs": [],
   "source": [
    "unlabeled = unlabeled.sample(frac=1)"
   ]
  },
  {
   "cell_type": "code",
   "execution_count": 451,
   "metadata": {
    "colab": {
     "autoexec": {
      "startup": false,
      "wait_interval": 0
     },
     "base_uri": "https://localhost:8080/",
     "height": 34
    },
    "colab_type": "code",
    "executionInfo": {
     "elapsed": 552,
     "status": "ok",
     "timestamp": 1531324943913,
     "user": {
      "displayName": "Богдан Пуйда",
      "photoUrl": "https://lh3.googleusercontent.com/a/default-user=s128",
      "userId": "102625359743870844302"
     },
     "user_tz": -180
    },
    "id": "U904lNZTAIvZ",
    "outputId": "a2ad4230-c4eb-42ff-8730-81675d4feb2f"
   },
   "outputs": [
    {
     "data": {
      "text/plain": [
       "False"
      ]
     },
     "execution_count": 451,
     "metadata": {},
     "output_type": "execute_result"
    }
   ],
   "source": [
    "test.isnull().any().any()"
   ]
  },
  {
   "cell_type": "code",
   "execution_count": 452,
   "metadata": {
    "colab": {
     "autoexec": {
      "startup": false,
      "wait_interval": 0
     }
    },
    "colab_type": "code",
    "id": "UmIA41BEDW97"
   },
   "outputs": [],
   "source": [
    "train[train == \"na\"] = np.nan"
   ]
  },
  {
   "cell_type": "code",
   "execution_count": 453,
   "metadata": {
    "colab": {
     "autoexec": {
      "startup": false,
      "wait_interval": 0
     },
     "base_uri": "https://localhost:8080/",
     "height": 17
    },
    "colab_type": "code",
    "executionInfo": {
     "elapsed": 554,
     "status": "ok",
     "timestamp": 1531323773084,
     "user": {
      "displayName": "Богдан Пуйда",
      "photoUrl": "https://lh3.googleusercontent.com/a/default-user=s128",
      "userId": "102625359743870844302"
     },
     "user_tz": -180
    },
    "id": "ikHpEuNgAJbg",
    "outputId": "a4a2bd49-f881-4369-c8d2-5d910b9f3efb"
   },
   "outputs": [],
   "source": [
    "test[test == \"na\"] = np.nan"
   ]
  },
  {
   "cell_type": "code",
   "execution_count": 454,
   "metadata": {
    "colab": {
     "autoexec": {
      "startup": false,
      "wait_interval": 0
     },
     "base_uri": "https://localhost:8080/",
     "height": 17
    },
    "colab_type": "code",
    "executionInfo": {
     "elapsed": 580,
     "status": "ok",
     "timestamp": 1531323775366,
     "user": {
      "displayName": "Богдан Пуйда",
      "photoUrl": "https://lh3.googleusercontent.com/a/default-user=s128",
      "userId": "102625359743870844302"
     },
     "user_tz": -180
    },
    "id": "AwiKuMDcAWCw",
    "outputId": "375a3d4b-76ba-4505-d416-dba4709e4b3d"
   },
   "outputs": [
    {
     "data": {
      "text/plain": [
       "True"
      ]
     },
     "execution_count": 454,
     "metadata": {},
     "output_type": "execute_result"
    }
   ],
   "source": [
    "test.isnull().any().any()"
   ]
  },
  {
   "cell_type": "code",
   "execution_count": 455,
   "metadata": {
    "colab": {
     "autoexec": {
      "startup": false,
      "wait_interval": 0
     },
     "base_uri": "https://localhost:8080/",
     "height": 17
    },
    "colab_type": "code",
    "executionInfo": {
     "elapsed": 478,
     "status": "ok",
     "timestamp": 1531323779187,
     "user": {
      "displayName": "Богдан Пуйда",
      "photoUrl": "https://lh3.googleusercontent.com/a/default-user=s128",
      "userId": "102625359743870844302"
     },
     "user_tz": -180
    },
    "id": "XkHZRo_SAjAR",
    "outputId": "02abad90-c5a3-4e33-be7c-0c7b4e89c8d2"
   },
   "outputs": [],
   "source": [
    "from sklearn.preprocessing import StandardScaler"
   ]
  },
  {
   "cell_type": "code",
   "execution_count": 456,
   "metadata": {
    "colab": {
     "autoexec": {
      "startup": false,
      "wait_interval": 0
     },
     "base_uri": "https://localhost:8080/",
     "height": 17
    },
    "colab_type": "code",
    "executionInfo": {
     "elapsed": 529,
     "status": "ok",
     "timestamp": 1531324855218,
     "user": {
      "displayName": "Богдан Пуйда",
      "photoUrl": "https://lh3.googleusercontent.com/a/default-user=s128",
      "userId": "102625359743870844302"
     },
     "user_tz": -180
    },
    "id": "dpE0GBgKAkwx",
    "outputId": "a56d1f03-4c85-4223-dd4d-6a111edba9d0"
   },
   "outputs": [],
   "source": [
    "scaler = StandardScaler()"
   ]
  },
  {
   "cell_type": "code",
   "execution_count": 457,
   "metadata": {
    "colab": {
     "autoexec": {
      "startup": false,
      "wait_interval": 0
     },
     "base_uri": "https://localhost:8080/",
     "height": 17
    },
    "colab_type": "code",
    "executionInfo": {
     "elapsed": 765,
     "status": "ok",
     "timestamp": 1531324860114,
     "user": {
      "displayName": "Богдан Пуйда",
      "photoUrl": "https://lh3.googleusercontent.com/a/default-user=s128",
      "userId": "102625359743870844302"
     },
     "user_tz": -180
    },
    "id": "gfsto-5aAwOi",
    "outputId": "ab69ffa7-6ce9-473f-a008-ad2d344457a4"
   },
   "outputs": [],
   "source": [
    "true = test['class']"
   ]
  },
  {
   "cell_type": "code",
   "execution_count": null,
   "metadata": {
    "colab": {
     "autoexec": {
      "startup": false,
      "wait_interval": 0
     },
     "base_uri": "https://localhost:8080/",
     "height": 34
    },
    "colab_type": "code",
    "executionInfo": {
     "elapsed": 552,
     "status": "ok",
     "timestamp": 1531324980029,
     "user": {
      "displayName": "Богдан Пуйда",
      "photoUrl": "https://lh3.googleusercontent.com/a/default-user=s128",
      "userId": "102625359743870844302"
     },
     "user_tz": -180
    },
    "id": "TsnEe8HrA0wy",
    "outputId": "c689f91d-511e-475e-e849-58301bdf9d49"
   },
   "outputs": [],
   "source": [
    "\n"
   ]
  },
  {
   "cell_type": "code",
   "execution_count": 458,
   "metadata": {
    "colab": {
     "autoexec": {
      "startup": false,
      "wait_interval": 0
     },
     "base_uri": "https://localhost:8080/",
     "height": 37
    },
    "colab_type": "code",
    "executionInfo": {
     "elapsed": 608,
     "status": "ok",
     "timestamp": 1531325090335,
     "user": {
      "displayName": "Богдан Пуйда",
      "photoUrl": "https://lh3.googleusercontent.com/a/default-user=s128",
      "userId": "102625359743870844302"
     },
     "user_tz": -180
    },
    "id": "uZ3MrCB7FY_s",
    "outputId": "5909b528-7369-44a7-aafd-a724c14d9df8"
   },
   "outputs": [],
   "source": [
    "train = train.drop(['rowc', 'colc', 'ra', 'dec'], axis=1)"
   ]
  },
  {
   "cell_type": "code",
   "execution_count": 459,
   "metadata": {
    "colab": {
     "autoexec": {
      "startup": false,
      "wait_interval": 0
     },
     "base_uri": "https://localhost:8080/",
     "height": 37
    },
    "colab_type": "code",
    "executionInfo": {
     "elapsed": 530,
     "status": "ok",
     "timestamp": 1531325090933,
     "user": {
      "displayName": "Богдан Пуйда",
      "photoUrl": "https://lh3.googleusercontent.com/a/default-user=s128",
      "userId": "102625359743870844302"
     },
     "user_tz": -180
    },
    "id": "Il5tZYd1Fe82",
    "outputId": "e61fc398-84e6-42e3-fec9-09a537263298"
   },
   "outputs": [],
   "source": [
    "test = test.drop(['rowc', 'colc', 'ra', 'dec'], axis=1)"
   ]
  },
  {
   "cell_type": "code",
   "execution_count": 460,
   "metadata": {},
   "outputs": [],
   "source": [
    "unlabeled = unlabeled.drop(['rowc', 'colc', 'ra', 'dec'], axis=1)"
   ]
  },
  {
   "cell_type": "code",
   "execution_count": 461,
   "metadata": {},
   "outputs": [],
   "source": [
    "unlabeled = unlabeled.drop('objid', axis=1)"
   ]
  },
  {
   "cell_type": "code",
   "execution_count": null,
   "metadata": {},
   "outputs": [],
   "source": []
  },
  {
   "cell_type": "code",
   "execution_count": 462,
   "metadata": {
    "colab": {
     "autoexec": {
      "startup": false,
      "wait_interval": 0
     },
     "base_uri": "https://localhost:8080/",
     "height": 37
    },
    "colab_type": "code",
    "executionInfo": {
     "elapsed": 528,
     "status": "ok",
     "timestamp": 1531325091515,
     "user": {
      "displayName": "Богдан Пуйда",
      "photoUrl": "https://lh3.googleusercontent.com/a/default-user=s128",
      "userId": "102625359743870844302"
     },
     "user_tz": -180
    },
    "id": "RLjh7Xh_FhdN",
    "outputId": "5ec9df3f-3b3e-4d0e-9f6a-eecbdbce35eb"
   },
   "outputs": [],
   "source": [
    "data = train.iloc[:, 1:39]"
   ]
  },
  {
   "cell_type": "code",
   "execution_count": 463,
   "metadata": {
    "colab": {
     "autoexec": {
      "startup": false,
      "wait_interval": 0
     },
     "base_uri": "https://localhost:8080/",
     "height": 37
    },
    "colab_type": "code",
    "executionInfo": {
     "elapsed": 579,
     "status": "ok",
     "timestamp": 1531325174461,
     "user": {
      "displayName": "Богдан Пуйда",
      "photoUrl": "https://lh3.googleusercontent.com/a/default-user=s128",
      "userId": "102625359743870844302"
     },
     "user_tz": -180
    },
    "id": "3yns6mQ5Fkwg",
    "outputId": "d7f1d2bb-88bc-4ecf-c997-3efd30ffe8f8"
   },
   "outputs": [],
   "source": [
    "y = train.iloc[:, 39]"
   ]
  },
  {
   "cell_type": "code",
   "execution_count": 464,
   "metadata": {},
   "outputs": [
    {
     "data": {
      "text/plain": [
       "(23333, 40)"
      ]
     },
     "execution_count": 464,
     "metadata": {},
     "output_type": "execute_result"
    }
   ],
   "source": [
    "test.shape"
   ]
  },
  {
   "cell_type": "code",
   "execution_count": 465,
   "metadata": {
    "colab": {
     "autoexec": {
      "startup": false,
      "wait_interval": 0
     },
     "base_uri": "https://localhost:8080/",
     "height": 34
    },
    "colab_type": "code",
    "executionInfo": {
     "elapsed": 574,
     "status": "ok",
     "timestamp": 1531325181323,
     "user": {
      "displayName": "Богдан Пуйда",
      "photoUrl": "https://lh3.googleusercontent.com/a/default-user=s128",
      "userId": "102625359743870844302"
     },
     "user_tz": -180
    },
    "id": "twItThvMF9zN",
    "outputId": "9242c68d-f72f-4e40-a0c9-08cc0b109e9b"
   },
   "outputs": [
    {
     "data": {
      "text/plain": [
       "(30000, 38)"
      ]
     },
     "execution_count": 465,
     "metadata": {},
     "output_type": "execute_result"
    }
   ],
   "source": [
    "data.shape"
   ]
  },
  {
   "cell_type": "code",
   "execution_count": 466,
   "metadata": {
    "colab": {
     "autoexec": {
      "startup": false,
      "wait_interval": 0
     },
     "base_uri": "https://localhost:8080/",
     "height": 34
    },
    "colab_type": "code",
    "executionInfo": {
     "elapsed": 570,
     "status": "ok",
     "timestamp": 1531325188709,
     "user": {
      "displayName": "Богдан Пуйда",
      "photoUrl": "https://lh3.googleusercontent.com/a/default-user=s128",
      "userId": "102625359743870844302"
     },
     "user_tz": -180
    },
    "id": "SiDDjcStF_gm",
    "outputId": "9060b2c7-ef6a-498f-92b0-980065ffefa3"
   },
   "outputs": [
    {
     "data": {
      "text/plain": [
       "(30000,)"
      ]
     },
     "execution_count": 466,
     "metadata": {},
     "output_type": "execute_result"
    }
   ],
   "source": [
    "y.shape"
   ]
  },
  {
   "cell_type": "code",
   "execution_count": 467,
   "metadata": {
    "colab": {
     "autoexec": {
      "startup": false,
      "wait_interval": 0
     }
    },
    "colab_type": "code",
    "id": "p4eT8pebGeqU"
   },
   "outputs": [],
   "source": [
    "data = np.asarray(data)"
   ]
  },
  {
   "cell_type": "code",
   "execution_count": 468,
   "metadata": {
    "colab": {
     "autoexec": {
      "startup": false,
      "wait_interval": 0
     }
    },
    "colab_type": "code",
    "id": "kKnoM2EjGd9I"
   },
   "outputs": [],
   "source": [
    "y = np.asarray(y)"
   ]
  },
  {
   "cell_type": "code",
   "execution_count": 469,
   "metadata": {},
   "outputs": [],
   "source": [
    "unlabeled = np.asarray(unlabeled)"
   ]
  },
  {
   "cell_type": "code",
   "execution_count": 470,
   "metadata": {},
   "outputs": [],
   "source": [
    "from sklearn.preprocessing import Imputer"
   ]
  },
  {
   "cell_type": "code",
   "execution_count": 471,
   "metadata": {},
   "outputs": [
    {
     "name": "stderr",
     "output_type": "stream",
     "text": [
      "/usr/local/lib/python3.5/dist-packages/sklearn/utils/deprecation.py:58: DeprecationWarning: Class Imputer is deprecated; Imputer was deprecated in version 0.20 and will be removed in 0.22. Import impute.SimpleImputer from sklearn instead.\n",
      "  warnings.warn(msg, category=DeprecationWarning)\n"
     ]
    }
   ],
   "source": [
    "imp = Imputer()"
   ]
  },
  {
   "cell_type": "code",
   "execution_count": 472,
   "metadata": {},
   "outputs": [
    {
     "data": {
      "text/plain": [
       "Imputer(axis=0, copy=True, missing_values='NaN', strategy='mean', verbose=0)"
      ]
     },
     "execution_count": 472,
     "metadata": {},
     "output_type": "execute_result"
    }
   ],
   "source": [
    "imp.fit(data)"
   ]
  },
  {
   "cell_type": "code",
   "execution_count": 473,
   "metadata": {},
   "outputs": [],
   "source": [
    "data = imp.transform(data)"
   ]
  },
  {
   "cell_type": "code",
   "execution_count": 474,
   "metadata": {},
   "outputs": [],
   "source": [
    "data_test = test.iloc[:, 1:39]"
   ]
  },
  {
   "cell_type": "code",
   "execution_count": 475,
   "metadata": {},
   "outputs": [],
   "source": [
    "data_test = imp.transform(data_test)"
   ]
  },
  {
   "cell_type": "code",
   "execution_count": 476,
   "metadata": {},
   "outputs": [],
   "source": [
    "unlabeled = imp.transform(unlabeled)"
   ]
  },
  {
   "cell_type": "code",
   "execution_count": 477,
   "metadata": {},
   "outputs": [
    {
     "data": {
      "text/plain": [
       "StandardScaler(copy=True, with_mean=True, with_std=True)"
      ]
     },
     "execution_count": 477,
     "metadata": {},
     "output_type": "execute_result"
    }
   ],
   "source": [
    "scaler.fit(data)"
   ]
  },
  {
   "cell_type": "code",
   "execution_count": 478,
   "metadata": {},
   "outputs": [],
   "source": [
    "data = scaler.transform(data)"
   ]
  },
  {
   "cell_type": "code",
   "execution_count": 479,
   "metadata": {},
   "outputs": [],
   "source": [
    "data_test = scaler.transform(data_test)"
   ]
  },
  {
   "cell_type": "code",
   "execution_count": 480,
   "metadata": {},
   "outputs": [],
   "source": [
    "unlabeled = scaler.transform(unlabeled)"
   ]
  },
  {
   "cell_type": "code",
   "execution_count": 481,
   "metadata": {},
   "outputs": [],
   "source": [
    "from keras.utils.np_utils import to_categorical   \n",
    "\n",
    "cl = to_categorical(y, num_classes=3)\n",
    "true1 = to_categorical(true, num_classes=3)"
   ]
  },
  {
   "cell_type": "code",
   "execution_count": 483,
   "metadata": {},
   "outputs": [
    {
     "name": "stdout",
     "output_type": "stream",
     "text": [
      "Train on 30000 samples, validate on 23333 samples\n",
      "Epoch 1/150\n",
      "30000/30000 [==============================] - 1s 27us/step - loss: 0.9399 - f1: 0.3701 - val_loss: 0.7815 - val_f1: 0.6091\n",
      "Epoch 2/150\n",
      "30000/30000 [==============================] - 0s 8us/step - loss: 0.7591 - f1: 0.6424 - val_loss: 0.6364 - val_f1: 0.7401\n",
      "Epoch 3/150\n",
      "30000/30000 [==============================] - 0s 8us/step - loss: 0.6724 - f1: 0.7169 - val_loss: 0.5711 - val_f1: 0.7694\n",
      "Epoch 4/150\n",
      "30000/30000 [==============================] - 0s 8us/step - loss: 0.6323 - f1: 0.7434 - val_loss: 0.5499 - val_f1: 0.7801\n",
      "Epoch 5/150\n",
      "30000/30000 [==============================] - 0s 8us/step - loss: 0.6107 - f1: 0.7579 - val_loss: 0.5294 - val_f1: 0.7902\n",
      "Epoch 6/150\n",
      "30000/30000 [==============================] - 0s 8us/step - loss: 0.5959 - f1: 0.7672 - val_loss: 0.5193 - val_f1: 0.7930\n",
      "Epoch 7/150\n",
      "30000/30000 [==============================] - 0s 8us/step - loss: 0.5852 - f1: 0.7729 - val_loss: 0.5062 - val_f1: 0.8007\n",
      "Epoch 8/150\n",
      "30000/30000 [==============================] - 0s 8us/step - loss: 0.5757 - f1: 0.7771 - val_loss: 0.4966 - val_f1: 0.8056\n",
      "Epoch 9/150\n",
      "30000/30000 [==============================] - 0s 8us/step - loss: 0.5686 - f1: 0.7805 - val_loss: 0.4913 - val_f1: 0.8074\n",
      "Epoch 10/150\n",
      "30000/30000 [==============================] - 0s 8us/step - loss: 0.5621 - f1: 0.7837 - val_loss: 0.4862 - val_f1: 0.8094\n",
      "Epoch 11/150\n",
      "30000/30000 [==============================] - 0s 8us/step - loss: 0.5570 - f1: 0.7862 - val_loss: 0.4829 - val_f1: 0.8108\n",
      "Epoch 12/150\n",
      "30000/30000 [==============================] - 0s 8us/step - loss: 0.5516 - f1: 0.7892 - val_loss: 0.4841 - val_f1: 0.8114\n",
      "Epoch 13/150\n",
      "30000/30000 [==============================] - 0s 8us/step - loss: 0.5465 - f1: 0.7908 - val_loss: 0.4772 - val_f1: 0.8137\n",
      "Epoch 14/150\n",
      "30000/30000 [==============================] - 0s 8us/step - loss: 0.5424 - f1: 0.7932 - val_loss: 0.4750 - val_f1: 0.8153\n",
      "Epoch 15/150\n",
      "30000/30000 [==============================] - 0s 8us/step - loss: 0.5387 - f1: 0.7942 - val_loss: 0.4700 - val_f1: 0.8181\n",
      "Epoch 16/150\n",
      "30000/30000 [==============================] - 0s 8us/step - loss: 0.5351 - f1: 0.7966 - val_loss: 0.4684 - val_f1: 0.8196\n",
      "Epoch 17/150\n",
      "30000/30000 [==============================] - 0s 8us/step - loss: 0.5318 - f1: 0.7980 - val_loss: 0.4645 - val_f1: 0.8227\n",
      "Epoch 18/150\n",
      "30000/30000 [==============================] - 0s 8us/step - loss: 0.5290 - f1: 0.7999 - val_loss: 0.4606 - val_f1: 0.8245\n",
      "Epoch 19/150\n",
      "30000/30000 [==============================] - 0s 8us/step - loss: 0.5259 - f1: 0.8005 - val_loss: 0.4657 - val_f1: 0.8214\n",
      "Epoch 20/150\n",
      "30000/30000 [==============================] - 0s 8us/step - loss: 0.5231 - f1: 0.8022 - val_loss: 0.4655 - val_f1: 0.8216\n",
      "Epoch 21/150\n",
      "30000/30000 [==============================] - 0s 8us/step - loss: 0.5205 - f1: 0.8038 - val_loss: 0.4624 - val_f1: 0.8235\n",
      "Epoch 22/150\n",
      "30000/30000 [==============================] - 0s 8us/step - loss: 0.5180 - f1: 0.8048 - val_loss: 0.4551 - val_f1: 0.8271\n",
      "Epoch 23/150\n",
      "30000/30000 [==============================] - 0s 8us/step - loss: 0.5158 - f1: 0.8055 - val_loss: 0.4556 - val_f1: 0.8272\n",
      "Epoch 24/150\n",
      "30000/30000 [==============================] - 0s 8us/step - loss: 0.5132 - f1: 0.8080 - val_loss: 0.4560 - val_f1: 0.8275\n",
      "Epoch 25/150\n",
      "30000/30000 [==============================] - 0s 8us/step - loss: 0.5110 - f1: 0.8088 - val_loss: 0.4537 - val_f1: 0.8289\n",
      "Epoch 26/150\n",
      "30000/30000 [==============================] - 0s 8us/step - loss: 0.5086 - f1: 0.8106 - val_loss: 0.4600 - val_f1: 0.8255\n",
      "Epoch 27/150\n",
      "30000/30000 [==============================] - 0s 8us/step - loss: 0.5068 - f1: 0.8104 - val_loss: 0.4487 - val_f1: 0.8315\n",
      "Epoch 28/150\n",
      "30000/30000 [==============================] - 0s 8us/step - loss: 0.5045 - f1: 0.8121 - val_loss: 0.4586 - val_f1: 0.8274\n",
      "Epoch 29/150\n",
      "30000/30000 [==============================] - 0s 8us/step - loss: 0.5028 - f1: 0.8126 - val_loss: 0.4521 - val_f1: 0.8305\n",
      "Epoch 30/150\n",
      "30000/30000 [==============================] - 0s 8us/step - loss: 0.5011 - f1: 0.8130 - val_loss: 0.4551 - val_f1: 0.8294\n",
      "Epoch 31/150\n",
      "30000/30000 [==============================] - 0s 8us/step - loss: 0.4990 - f1: 0.8142 - val_loss: 0.4548 - val_f1: 0.8305\n",
      "Epoch 32/150\n",
      "30000/30000 [==============================] - 0s 8us/step - loss: 0.4973 - f1: 0.8148 - val_loss: 0.4490 - val_f1: 0.8329\n",
      "Epoch 33/150\n",
      "30000/30000 [==============================] - 0s 8us/step - loss: 0.4955 - f1: 0.8155 - val_loss: 0.4531 - val_f1: 0.8317\n",
      "Epoch 34/150\n",
      "30000/30000 [==============================] - 0s 8us/step - loss: 0.4943 - f1: 0.8165 - val_loss: 0.4475 - val_f1: 0.8339\n",
      "Epoch 35/150\n",
      "30000/30000 [==============================] - 0s 8us/step - loss: 0.4927 - f1: 0.8170 - val_loss: 0.4507 - val_f1: 0.8326\n",
      "Epoch 36/150\n",
      "30000/30000 [==============================] - 0s 8us/step - loss: 0.4907 - f1: 0.8172 - val_loss: 0.4476 - val_f1: 0.8342\n",
      "Epoch 37/150\n",
      "30000/30000 [==============================] - 0s 8us/step - loss: 0.4893 - f1: 0.8175 - val_loss: 0.4457 - val_f1: 0.8348\n",
      "Epoch 38/150\n",
      "30000/30000 [==============================] - 0s 8us/step - loss: 0.4877 - f1: 0.8191 - val_loss: 0.4434 - val_f1: 0.8367\n",
      "Epoch 39/150\n",
      "30000/30000 [==============================] - 0s 8us/step - loss: 0.4866 - f1: 0.8183 - val_loss: 0.4480 - val_f1: 0.8350\n",
      "Epoch 40/150\n",
      "30000/30000 [==============================] - 0s 8us/step - loss: 0.4849 - f1: 0.8198 - val_loss: 0.4489 - val_f1: 0.8343\n",
      "Epoch 41/150\n",
      "30000/30000 [==============================] - 0s 8us/step - loss: 0.4837 - f1: 0.8209 - val_loss: 0.4462 - val_f1: 0.8352\n",
      "Epoch 42/150\n",
      "30000/30000 [==============================] - 0s 8us/step - loss: 0.4820 - f1: 0.8218 - val_loss: 0.4470 - val_f1: 0.8352\n",
      "Epoch 43/150\n",
      "30000/30000 [==============================] - 0s 8us/step - loss: 0.4810 - f1: 0.8221 - val_loss: 0.4430 - val_f1: 0.8369\n",
      "Epoch 44/150\n",
      "30000/30000 [==============================] - 0s 8us/step - loss: 0.4790 - f1: 0.8230 - val_loss: 0.4417 - val_f1: 0.8384\n",
      "Epoch 45/150\n",
      "30000/30000 [==============================] - 0s 8us/step - loss: 0.4776 - f1: 0.8231 - val_loss: 0.4512 - val_f1: 0.8333\n",
      "Epoch 46/150\n",
      "30000/30000 [==============================] - 0s 8us/step - loss: 0.4768 - f1: 0.8240 - val_loss: 0.4476 - val_f1: 0.8354\n",
      "Epoch 47/150\n",
      "30000/30000 [==============================] - 0s 8us/step - loss: 0.4754 - f1: 0.8241 - val_loss: 0.4419 - val_f1: 0.8378\n",
      "Epoch 48/150\n",
      "30000/30000 [==============================] - 0s 8us/step - loss: 0.4744 - f1: 0.8248 - val_loss: 0.4426 - val_f1: 0.8372\n",
      "Epoch 49/150\n",
      "30000/30000 [==============================] - 0s 8us/step - loss: 0.4730 - f1: 0.8253 - val_loss: 0.4396 - val_f1: 0.8395\n",
      "Epoch 50/150\n",
      "30000/30000 [==============================] - 0s 8us/step - loss: 0.4719 - f1: 0.8257 - val_loss: 0.4376 - val_f1: 0.8397\n",
      "Epoch 51/150\n",
      "30000/30000 [==============================] - 0s 8us/step - loss: 0.4705 - f1: 0.8261 - val_loss: 0.4394 - val_f1: 0.8396\n",
      "Epoch 52/150\n",
      "30000/30000 [==============================] - 0s 8us/step - loss: 0.4695 - f1: 0.8259 - val_loss: 0.4350 - val_f1: 0.8428\n",
      "Epoch 53/150\n",
      "30000/30000 [==============================] - 0s 8us/step - loss: 0.4684 - f1: 0.8271 - val_loss: 0.4398 - val_f1: 0.8393\n",
      "Epoch 54/150\n",
      "30000/30000 [==============================] - 0s 8us/step - loss: 0.4679 - f1: 0.8265 - val_loss: 0.4396 - val_f1: 0.8400\n",
      "Epoch 55/150\n",
      "30000/30000 [==============================] - 0s 8us/step - loss: 0.4661 - f1: 0.8273 - val_loss: 0.4401 - val_f1: 0.8393\n",
      "Epoch 56/150\n",
      "30000/30000 [==============================] - 0s 8us/step - loss: 0.4654 - f1: 0.8275 - val_loss: 0.4346 - val_f1: 0.8428\n",
      "Epoch 57/150\n",
      "30000/30000 [==============================] - 0s 8us/step - loss: 0.4642 - f1: 0.8279 - val_loss: 0.4380 - val_f1: 0.8408\n",
      "Epoch 58/150\n",
      "30000/30000 [==============================] - 0s 8us/step - loss: 0.4638 - f1: 0.8278 - val_loss: 0.4376 - val_f1: 0.8406\n",
      "Epoch 59/150\n",
      "30000/30000 [==============================] - 0s 8us/step - loss: 0.4627 - f1: 0.8282 - val_loss: 0.4400 - val_f1: 0.8402\n",
      "Epoch 60/150\n",
      "30000/30000 [==============================] - 0s 8us/step - loss: 0.4615 - f1: 0.8298 - val_loss: 0.4378 - val_f1: 0.8407\n"
     ]
    },
    {
     "name": "stdout",
     "output_type": "stream",
     "text": [
      "Epoch 61/150\n",
      "30000/30000 [==============================] - 0s 8us/step - loss: 0.4605 - f1: 0.8298 - val_loss: 0.4344 - val_f1: 0.8426\n",
      "Epoch 62/150\n",
      "30000/30000 [==============================] - 0s 7us/step - loss: 0.4594 - f1: 0.8297 - val_loss: 0.4347 - val_f1: 0.8426\n",
      "Epoch 63/150\n",
      "30000/30000 [==============================] - 0s 7us/step - loss: 0.4586 - f1: 0.8303 - val_loss: 0.4369 - val_f1: 0.8420\n",
      "Epoch 64/150\n",
      "30000/30000 [==============================] - 0s 8us/step - loss: 0.4580 - f1: 0.8296 - val_loss: 0.4410 - val_f1: 0.8405\n",
      "Epoch 65/150\n",
      "30000/30000 [==============================] - 0s 8us/step - loss: 0.4578 - f1: 0.8301 - val_loss: 0.4355 - val_f1: 0.8430\n",
      "Epoch 66/150\n",
      "30000/30000 [==============================] - 0s 7us/step - loss: 0.4560 - f1: 0.8306 - val_loss: 0.4289 - val_f1: 0.8467\n",
      "Epoch 67/150\n",
      "30000/30000 [==============================] - 0s 7us/step - loss: 0.4556 - f1: 0.8307 - val_loss: 0.4292 - val_f1: 0.8464\n",
      "Epoch 68/150\n",
      "30000/30000 [==============================] - 0s 7us/step - loss: 0.4544 - f1: 0.8314 - val_loss: 0.4397 - val_f1: 0.8417\n",
      "Epoch 69/150\n",
      "30000/30000 [==============================] - 0s 7us/step - loss: 0.4536 - f1: 0.8312 - val_loss: 0.4362 - val_f1: 0.8433\n",
      "Epoch 70/150\n",
      "30000/30000 [==============================] - 0s 7us/step - loss: 0.4532 - f1: 0.8314 - val_loss: 0.4400 - val_f1: 0.8414\n",
      "Epoch 71/150\n",
      "30000/30000 [==============================] - 0s 8us/step - loss: 0.4527 - f1: 0.8322 - val_loss: 0.4303 - val_f1: 0.8452\n",
      "Epoch 72/150\n",
      "30000/30000 [==============================] - 0s 7us/step - loss: 0.4521 - f1: 0.8317 - val_loss: 0.4331 - val_f1: 0.8439\n",
      "Epoch 73/150\n",
      "30000/30000 [==============================] - 0s 7us/step - loss: 0.4508 - f1: 0.8327 - val_loss: 0.4301 - val_f1: 0.8458\n",
      "Epoch 74/150\n",
      "30000/30000 [==============================] - 0s 7us/step - loss: 0.4509 - f1: 0.8328 - val_loss: 0.4375 - val_f1: 0.8426\n",
      "Epoch 75/150\n",
      "30000/30000 [==============================] - 0s 7us/step - loss: 0.4493 - f1: 0.8331 - val_loss: 0.4370 - val_f1: 0.8424\n",
      "Epoch 76/150\n",
      "30000/30000 [==============================] - 0s 8us/step - loss: 0.4485 - f1: 0.8337 - val_loss: 0.4342 - val_f1: 0.8438\n",
      "Epoch 77/150\n",
      "30000/30000 [==============================] - 0s 8us/step - loss: 0.4482 - f1: 0.8334 - val_loss: 0.4375 - val_f1: 0.8433\n",
      "Epoch 78/150\n",
      "30000/30000 [==============================] - 0s 7us/step - loss: 0.4479 - f1: 0.8338 - val_loss: 0.4381 - val_f1: 0.8417\n",
      "Epoch 79/150\n",
      "30000/30000 [==============================] - 0s 7us/step - loss: 0.4471 - f1: 0.8339 - val_loss: 0.4273 - val_f1: 0.8479\n",
      "Epoch 80/150\n",
      "30000/30000 [==============================] - 0s 8us/step - loss: 0.4473 - f1: 0.8342 - val_loss: 0.4331 - val_f1: 0.8450\n",
      "Epoch 81/150\n",
      "30000/30000 [==============================] - 0s 7us/step - loss: 0.4460 - f1: 0.8343 - val_loss: 0.4351 - val_f1: 0.8433\n",
      "Epoch 82/150\n",
      "30000/30000 [==============================] - 0s 7us/step - loss: 0.4451 - f1: 0.8349 - val_loss: 0.4356 - val_f1: 0.8433\n",
      "Epoch 83/150\n",
      "30000/30000 [==============================] - 0s 8us/step - loss: 0.4441 - f1: 0.8354 - val_loss: 0.4320 - val_f1: 0.8448\n",
      "Epoch 84/150\n",
      "30000/30000 [==============================] - 0s 8us/step - loss: 0.4443 - f1: 0.8350 - val_loss: 0.4383 - val_f1: 0.8424\n",
      "Epoch 85/150\n",
      "30000/30000 [==============================] - 0s 7us/step - loss: 0.4441 - f1: 0.8358 - val_loss: 0.4342 - val_f1: 0.8444\n",
      "Epoch 86/150\n",
      "30000/30000 [==============================] - 0s 7us/step - loss: 0.4433 - f1: 0.8351 - val_loss: 0.4301 - val_f1: 0.8467\n",
      "Epoch 87/150\n",
      "30000/30000 [==============================] - 0s 7us/step - loss: 0.4429 - f1: 0.8356 - val_loss: 0.4345 - val_f1: 0.8440\n",
      "Epoch 88/150\n",
      "30000/30000 [==============================] - 0s 7us/step - loss: 0.4421 - f1: 0.8356 - val_loss: 0.4425 - val_f1: 0.8416\n",
      "Epoch 89/150\n",
      "30000/30000 [==============================] - 0s 7us/step - loss: 0.4413 - f1: 0.8361 - val_loss: 0.4375 - val_f1: 0.8427\n",
      "Epoch 90/150\n",
      "30000/30000 [==============================] - 0s 7us/step - loss: 0.4415 - f1: 0.8356 - val_loss: 0.4383 - val_f1: 0.8424\n",
      "Epoch 91/150\n",
      "30000/30000 [==============================] - 0s 7us/step - loss: 0.4408 - f1: 0.8364 - val_loss: 0.4327 - val_f1: 0.8457\n",
      "Epoch 92/150\n",
      "30000/30000 [==============================] - 0s 7us/step - loss: 0.4395 - f1: 0.8364 - val_loss: 0.4299 - val_f1: 0.8467\n",
      "Epoch 93/150\n",
      "30000/30000 [==============================] - 0s 7us/step - loss: 0.4398 - f1: 0.8371 - val_loss: 0.4293 - val_f1: 0.8476\n",
      "Epoch 94/150\n",
      "30000/30000 [==============================] - 0s 7us/step - loss: 0.4392 - f1: 0.8371 - val_loss: 0.4301 - val_f1: 0.8463\n",
      "Epoch 95/150\n",
      "30000/30000 [==============================] - 0s 7us/step - loss: 0.4389 - f1: 0.8371 - val_loss: 0.4278 - val_f1: 0.8483\n",
      "Epoch 96/150\n",
      "30000/30000 [==============================] - 0s 7us/step - loss: 0.4385 - f1: 0.8377 - val_loss: 0.4308 - val_f1: 0.8470\n",
      "Epoch 97/150\n",
      "30000/30000 [==============================] - 0s 7us/step - loss: 0.4376 - f1: 0.8382 - val_loss: 0.4280 - val_f1: 0.8474\n",
      "Epoch 98/150\n",
      "30000/30000 [==============================] - 0s 7us/step - loss: 0.4374 - f1: 0.8381 - val_loss: 0.4350 - val_f1: 0.8447\n",
      "Epoch 99/150\n",
      "30000/30000 [==============================] - 0s 7us/step - loss: 0.4368 - f1: 0.8382 - val_loss: 0.4285 - val_f1: 0.8479\n",
      "Epoch 100/150\n",
      "30000/30000 [==============================] - 0s 8us/step - loss: 0.4365 - f1: 0.8381 - val_loss: 0.4310 - val_f1: 0.8459\n",
      "Epoch 101/150\n",
      "30000/30000 [==============================] - 0s 7us/step - loss: 0.4361 - f1: 0.8382 - val_loss: 0.4287 - val_f1: 0.8483\n",
      "Epoch 102/150\n",
      "30000/30000 [==============================] - 0s 8us/step - loss: 0.4353 - f1: 0.8386 - val_loss: 0.4310 - val_f1: 0.8461\n",
      "Epoch 103/150\n",
      "30000/30000 [==============================] - 0s 7us/step - loss: 0.4350 - f1: 0.8387 - val_loss: 0.4289 - val_f1: 0.8477\n",
      "Epoch 104/150\n",
      "30000/30000 [==============================] - 0s 7us/step - loss: 0.4347 - f1: 0.8388 - val_loss: 0.4312 - val_f1: 0.8470\n",
      "Epoch 105/150\n",
      "30000/30000 [==============================] - 0s 7us/step - loss: 0.4336 - f1: 0.8391 - val_loss: 0.4300 - val_f1: 0.8482\n",
      "Epoch 106/150\n",
      "30000/30000 [==============================] - 0s 7us/step - loss: 0.4342 - f1: 0.8394 - val_loss: 0.4377 - val_f1: 0.8436\n",
      "Epoch 107/150\n",
      "30000/30000 [==============================] - 0s 7us/step - loss: 0.4330 - f1: 0.8395 - val_loss: 0.4344 - val_f1: 0.8449\n",
      "Epoch 108/150\n",
      "30000/30000 [==============================] - 0s 7us/step - loss: 0.4328 - f1: 0.8404 - val_loss: 0.4308 - val_f1: 0.8475\n",
      "Epoch 109/150\n",
      "30000/30000 [==============================] - 0s 7us/step - loss: 0.4318 - f1: 0.8403 - val_loss: 0.4307 - val_f1: 0.8474\n",
      "Epoch 110/150\n",
      "30000/30000 [==============================] - 0s 7us/step - loss: 0.4318 - f1: 0.8402 - val_loss: 0.4266 - val_f1: 0.8491\n",
      "Epoch 111/150\n",
      "30000/30000 [==============================] - 0s 7us/step - loss: 0.4310 - f1: 0.8406 - val_loss: 0.4254 - val_f1: 0.8490\n",
      "Epoch 112/150\n",
      "30000/30000 [==============================] - 0s 8us/step - loss: 0.4312 - f1: 0.8410 - val_loss: 0.4282 - val_f1: 0.8486\n",
      "Epoch 113/150\n",
      "30000/30000 [==============================] - 0s 8us/step - loss: 0.4312 - f1: 0.8400 - val_loss: 0.4321 - val_f1: 0.8470\n",
      "Epoch 114/150\n",
      "30000/30000 [==============================] - 0s 7us/step - loss: 0.4305 - f1: 0.8408 - val_loss: 0.4281 - val_f1: 0.8491\n",
      "Epoch 115/150\n",
      "30000/30000 [==============================] - 0s 8us/step - loss: 0.4301 - f1: 0.8415 - val_loss: 0.4260 - val_f1: 0.8500\n",
      "Epoch 116/150\n",
      "30000/30000 [==============================] - 0s 7us/step - loss: 0.4300 - f1: 0.8414 - val_loss: 0.4296 - val_f1: 0.8489\n",
      "Epoch 117/150\n",
      "30000/30000 [==============================] - 0s 7us/step - loss: 0.4292 - f1: 0.8412 - val_loss: 0.4314 - val_f1: 0.8482\n",
      "Epoch 118/150\n",
      "30000/30000 [==============================] - 0s 7us/step - loss: 0.4289 - f1: 0.8411 - val_loss: 0.4335 - val_f1: 0.8474\n",
      "Epoch 119/150\n",
      "30000/30000 [==============================] - 0s 7us/step - loss: 0.4283 - f1: 0.8421 - val_loss: 0.4294 - val_f1: 0.8488\n",
      "Epoch 120/150\n",
      "30000/30000 [==============================] - 0s 8us/step - loss: 0.4278 - f1: 0.8421 - val_loss: 0.4289 - val_f1: 0.8490\n",
      "Epoch 121/150\n"
     ]
    },
    {
     "name": "stdout",
     "output_type": "stream",
     "text": [
      "30000/30000 [==============================] - 0s 7us/step - loss: 0.4275 - f1: 0.8420 - val_loss: 0.4314 - val_f1: 0.8474\n",
      "Epoch 122/150\n",
      "30000/30000 [==============================] - 0s 7us/step - loss: 0.4267 - f1: 0.8422 - val_loss: 0.4367 - val_f1: 0.8454\n",
      "Epoch 123/150\n",
      "30000/30000 [==============================] - 0s 7us/step - loss: 0.4270 - f1: 0.8425 - val_loss: 0.4332 - val_f1: 0.8464\n",
      "Epoch 124/150\n",
      "30000/30000 [==============================] - 0s 7us/step - loss: 0.4264 - f1: 0.8420 - val_loss: 0.4256 - val_f1: 0.8504\n",
      "Epoch 125/150\n",
      "30000/30000 [==============================] - 0s 7us/step - loss: 0.4268 - f1: 0.8424 - val_loss: 0.4352 - val_f1: 0.8457\n",
      "Epoch 126/150\n",
      "30000/30000 [==============================] - 0s 7us/step - loss: 0.4262 - f1: 0.8427 - val_loss: 0.4276 - val_f1: 0.8503\n",
      "Epoch 127/150\n",
      "30000/30000 [==============================] - 0s 8us/step - loss: 0.4257 - f1: 0.8426 - val_loss: 0.4387 - val_f1: 0.8450\n",
      "Epoch 128/150\n",
      "30000/30000 [==============================] - 0s 7us/step - loss: 0.4250 - f1: 0.8430 - val_loss: 0.4380 - val_f1: 0.8456\n",
      "Epoch 129/150\n",
      "30000/30000 [==============================] - 0s 7us/step - loss: 0.4244 - f1: 0.8426 - val_loss: 0.4334 - val_f1: 0.8470\n",
      "Epoch 130/150\n",
      "30000/30000 [==============================] - 0s 7us/step - loss: 0.4240 - f1: 0.8434 - val_loss: 0.4314 - val_f1: 0.8482\n",
      "Epoch 131/150\n",
      "30000/30000 [==============================] - 0s 7us/step - loss: 0.4243 - f1: 0.8428 - val_loss: 0.4343 - val_f1: 0.8468\n",
      "Epoch 132/150\n",
      "30000/30000 [==============================] - 0s 7us/step - loss: 0.4242 - f1: 0.8433 - val_loss: 0.4289 - val_f1: 0.8496\n",
      "Epoch 133/150\n",
      "30000/30000 [==============================] - 0s 7us/step - loss: 0.4233 - f1: 0.8445 - val_loss: 0.4319 - val_f1: 0.8476\n",
      "Epoch 134/150\n",
      "30000/30000 [==============================] - 0s 7us/step - loss: 0.4229 - f1: 0.8442 - val_loss: 0.4327 - val_f1: 0.8482\n",
      "Epoch 135/150\n",
      "30000/30000 [==============================] - 0s 7us/step - loss: 0.4225 - f1: 0.8443 - val_loss: 0.4265 - val_f1: 0.8504\n",
      "Epoch 136/150\n",
      "30000/30000 [==============================] - 0s 7us/step - loss: 0.4225 - f1: 0.8441 - val_loss: 0.4317 - val_f1: 0.8481\n",
      "Epoch 137/150\n",
      "30000/30000 [==============================] - 0s 7us/step - loss: 0.4225 - f1: 0.8438 - val_loss: 0.4291 - val_f1: 0.8498\n",
      "Epoch 138/150\n",
      "30000/30000 [==============================] - 0s 7us/step - loss: 0.4221 - f1: 0.8439 - val_loss: 0.4315 - val_f1: 0.8482\n",
      "Epoch 139/150\n",
      "30000/30000 [==============================] - 0s 8us/step - loss: 0.4220 - f1: 0.8449 - val_loss: 0.4318 - val_f1: 0.8493\n",
      "Epoch 140/150\n",
      "30000/30000 [==============================] - 0s 7us/step - loss: 0.4215 - f1: 0.8444 - val_loss: 0.4310 - val_f1: 0.8487\n",
      "Epoch 141/150\n",
      "30000/30000 [==============================] - 0s 7us/step - loss: 0.4210 - f1: 0.8447 - val_loss: 0.4266 - val_f1: 0.8509\n",
      "Epoch 142/150\n",
      "30000/30000 [==============================] - 0s 7us/step - loss: 0.4210 - f1: 0.8443 - val_loss: 0.4301 - val_f1: 0.8489\n",
      "Epoch 143/150\n",
      "30000/30000 [==============================] - 0s 8us/step - loss: 0.4208 - f1: 0.8455 - val_loss: 0.4266 - val_f1: 0.8513\n",
      "Epoch 144/150\n",
      "30000/30000 [==============================] - 0s 7us/step - loss: 0.4203 - f1: 0.8450 - val_loss: 0.4359 - val_f1: 0.8471\n",
      "Epoch 145/150\n",
      "30000/30000 [==============================] - 0s 7us/step - loss: 0.4196 - f1: 0.8451 - val_loss: 0.4381 - val_f1: 0.8468\n",
      "Epoch 146/150\n",
      "30000/30000 [==============================] - 0s 7us/step - loss: 0.4207 - f1: 0.8451 - val_loss: 0.4304 - val_f1: 0.8495\n",
      "Epoch 147/150\n",
      "30000/30000 [==============================] - 0s 7us/step - loss: 0.4204 - f1: 0.8450 - val_loss: 0.4325 - val_f1: 0.8487\n",
      "Epoch 148/150\n",
      "30000/30000 [==============================] - 0s 7us/step - loss: 0.4195 - f1: 0.8460 - val_loss: 0.4316 - val_f1: 0.8491\n",
      "Epoch 149/150\n",
      "30000/30000 [==============================] - 0s 8us/step - loss: 0.4193 - f1: 0.8457 - val_loss: 0.4305 - val_f1: 0.8499\n",
      "Epoch 150/150\n",
      "30000/30000 [==============================] - 0s 7us/step - loss: 0.4192 - f1: 0.8456 - val_loss: 0.4317 - val_f1: 0.8493\n"
     ]
    }
   ],
   "source": [
    "from keras.models import Sequential\n",
    "from keras.layers import Dense, Dropout\n",
    "from keras.optimizers import Adam\n",
    "model = Sequential()\n",
    "\n",
    "model.add(Dense(32,  input_dim=38, activation='relu'))\n",
    "model.add(Dense(16,  input_dim=38, activation='relu'))\n",
    "model.add(Dense(3,  activation='softmax'))\n",
    "\n",
    "model.compile(loss='categorical_crossentropy', optimizer=Adam(), metrics=[f1])\n",
    "hist = model.fit(data, cl, epochs=150, batch_size=1000,  validation_data = (data_test, true1))\n",
    "\n",
    "predictions = np.argmax(model.predict(unlabeled), axis=1)"
   ]
  },
  {
   "cell_type": "code",
   "execution_count": 485,
   "metadata": {},
   "outputs": [],
   "source": [
    "data2 = np.concatenate((data, unlabeled), axis=0)"
   ]
  },
  {
   "cell_type": "code",
   "execution_count": 486,
   "metadata": {},
   "outputs": [
    {
     "data": {
      "text/plain": [
       "(53333, 38)"
      ]
     },
     "execution_count": 486,
     "metadata": {},
     "output_type": "execute_result"
    }
   ],
   "source": [
    "data2.shape"
   ]
  },
  {
   "cell_type": "code",
   "execution_count": 487,
   "metadata": {},
   "outputs": [],
   "source": [
    "y2 = np.concatenate((y, predictions))"
   ]
  },
  {
   "cell_type": "markdown",
   "metadata": {},
   "source": []
  },
  {
   "cell_type": "code",
   "execution_count": 430,
   "metadata": {},
   "outputs": [
    {
     "data": {
      "text/plain": [
       "array([0, 1, 2])"
      ]
     },
     "execution_count": 430,
     "metadata": {},
     "output_type": "execute_result"
    }
   ],
   "source": []
  },
  {
   "cell_type": "code",
   "execution_count": 484,
   "metadata": {},
   "outputs": [
    {
     "data": {
      "image/png": "[encoded data removed]",
      "text/plain": [
       "<Figure size 432x288 with 1 Axes>"
      ]
     },
     "metadata": {},
     "output_type": "display_data"
    },
    {
     "data": {
      "image/png": "[encoded data removed]",
      "text/plain": [
       "<Figure size 432x288 with 1 Axes>"
      ]
     },
     "metadata": {},
     "output_type": "display_data"
    }
   ],
   "source": [
    "import matplotlib.pyplot as plt\n",
    "%matplotlib inline\n",
    "\n",
    "# summarize history for accuracy\n",
    "plt.plot(hist.history['f1'])\n",
    "plt.plot(hist.history['val_f1'])\n",
    "plt.title('model f1')\n",
    "plt.ylabel('f1')\n",
    "plt.xlabel('epoch')\n",
    "plt.legend(['train', 'test'], loc='upper left')\n",
    "plt.show()\n",
    "# summarize history for loss\n",
    "plt.plot(hist.history['loss'])\n",
    "plt.plot(hist.history['val_loss'])\n",
    "plt.title('model loss')\n",
    "plt.ylabel('loss')\n",
    "plt.xlabel('epoch')\n",
    "plt.legend(['train', 'test'], loc='upper left')\n",
    "plt.show()"
   ]
  },
  {
   "cell_type": "code",
   "execution_count": 220,
   "metadata": {},
   "outputs": [
    {
     "data": {
      "text/plain": [
       "SVC(C=1.0, cache_size=200, class_weight=None, coef0=0.0,\n",
       "  decision_function_shape='ovr', degree=3, gamma='auto_deprecated',\n",
       "  kernel='rbf', max_iter=-1, probability=False, random_state=None,\n",
       "  shrinking=True, tol=0.001, verbose=False)"
      ]
     },
     "execution_count": 220,
     "metadata": {},
     "output_type": "execute_result"
    }
   ],
   "source": [
    "from sklearn.svm import SVC\n",
    "clf = SVC()\n",
    "clf.fit(data, y) \n",
    "\n"
   ]
  },
  {
   "cell_type": "code",
   "execution_count": 221,
   "metadata": {},
   "outputs": [],
   "source": [
    "yhat = clf.predict(data_test)"
   ]
  },
  {
   "cell_type": "code",
   "execution_count": 144,
   "metadata": {},
   "outputs": [],
   "source": [
    "data1 = np.concatenate((data, unlabeled), axis=0)"
   ]
  },
  {
   "cell_type": "code",
   "execution_count": 146,
   "metadata": {},
   "outputs": [],
   "source": [
    "y1 = np.concatenate((y, yhat))"
   ]
  },
  {
   "cell_type": "code",
   "execution_count": 226,
   "metadata": {},
   "outputs": [],
   "source": [
    "from sklearn.naive_bayes import MultinomialNB\n",
    "gnb = GaussianNB()\n",
    "yhat = gnb.fit(data, y).predict(data_test)"
   ]
  },
  {
   "cell_type": "code",
   "execution_count": 147,
   "metadata": {},
   "outputs": [
    {
     "data": {
      "text/plain": [
       "(53333,)"
      ]
     },
     "execution_count": 147,
     "metadata": {},
     "output_type": "execute_result"
    }
   ],
   "source": [
    "y1.shape"
   ]
  },
  {
   "cell_type": "code",
   "execution_count": 99,
   "metadata": {},
   "outputs": [],
   "source": [
    "from sklearn.metrics import f1_score"
   ]
  },
  {
   "cell_type": "code",
   "execution_count": 228,
   "metadata": {},
   "outputs": [
    {
     "data": {
      "text/plain": [
       "0.4968070972442463"
      ]
     },
     "execution_count": 228,
     "metadata": {},
     "output_type": "execute_result"
    }
   ],
   "source": [
    "f1_score(true, yhat, average = \"micro\")"
   ]
  },
  {
   "cell_type": "code",
   "execution_count": 60,
   "metadata": {},
   "outputs": [
    {
     "data": {
      "text/plain": [
       "(23333,)"
      ]
     },
     "execution_count": 60,
     "metadata": {},
     "output_type": "execute_result"
    }
   ],
   "source": [
    "yhat.shape"
   ]
  },
  {
   "cell_type": "code",
   "execution_count": 61,
   "metadata": {},
   "outputs": [
    {
     "data": {
      "text/plain": [
       "(23333,)"
      ]
     },
     "execution_count": 61,
     "metadata": {},
     "output_type": "execute_result"
    }
   ],
   "source": [
    "true.shape"
   ]
  },
  {
   "cell_type": "code",
   "execution_count": null,
   "metadata": {},
   "outputs": [],
   "source": []
  },
  {
   "cell_type": "code",
   "execution_count": 304,
   "metadata": {
    "colab": {
     "autoexec": {
      "startup": false,
      "wait_interval": 0
     },
     "base_uri": "https://localhost:8080/",
     "height": 34
    },
    "colab_type": "code",
    "executionInfo": {
     "elapsed": 552,
     "status": "ok",
     "timestamp": 1531325563423,
     "user": {
      "displayName": "Богдан Пуйда",
      "photoUrl": "https://lh3.googleusercontent.com/a/default-user=s128",
      "userId": "102625359743870844302"
     },
     "user_tz": -180
    },
    "id": "xa4p3MTfFqoF",
    "outputId": "d9c65197-9022-450f-f83f-b725acaa5c50"
   },
   "outputs": [],
   "source": [
    "from sklearn.model_selection import KFold\n"
   ]
  },
  {
   "cell_type": "code",
   "execution_count": 165,
   "metadata": {
    "colab": {
     "autoexec": {
      "startup": false,
      "wait_interval": 0
     },
     "base_uri": "https://localhost:8080/",
     "height": 37
    },
    "colab_type": "code",
    "executionInfo": {
     "elapsed": 586,
     "status": "ok",
     "timestamp": 1531325564481,
     "user": {
      "displayName": "Богдан Пуйда",
      "photoUrl": "https://lh3.googleusercontent.com/a/default-user=s128",
      "userId": "102625359743870844302"
     },
     "user_tz": -180
    },
    "id": "Mh_xWSYzGQ6g",
    "outputId": "9d491e45-eaa1-48b8-a3ae-2b72f58aa95a"
   },
   "outputs": [],
   "source": [
    "import lightgbm as lgb\n",
    "\n",
    "dtrain = lgb.Dataset(data1, label=y1)"
   ]
  },
  {
   "cell_type": "markdown",
   "metadata": {},
   "source": []
  },
  {
   "cell_type": "code",
   "execution_count": null,
   "metadata": {},
   "outputs": [],
   "source": []
  },
  {
   "cell_type": "code",
   "execution_count": null,
   "metadata": {},
   "outputs": [],
   "source": []
  },
  {
   "cell_type": "code",
   "execution_count": 166,
   "metadata": {
    "colab": {
     "autoexec": {
      "startup": false,
      "wait_interval": 0
     },
     "base_uri": "https://localhost:8080/",
     "height": 37
    },
    "colab_type": "code",
    "executionInfo": {
     "elapsed": 549,
     "status": "ok",
     "timestamp": 1531325565422,
     "user": {
      "displayName": "Богдан Пуйда",
      "photoUrl": "https://lh3.googleusercontent.com/a/default-user=s128",
      "userId": "102625359743870844302"
     },
     "user_tz": -180
    },
    "id": "wCBkR3ZFGXe7",
    "outputId": "6d36d6d6-7219-431e-fc24-1edb35b09de9"
   },
   "outputs": [],
   "source": []
  },
  {
   "cell_type": "code",
   "execution_count": 167,
   "metadata": {},
   "outputs": [],
   "source": [
    "bst = lgb.train(parameters, dtrain, num_round)"
   ]
  },
  {
   "cell_type": "code",
   "execution_count": 168,
   "metadata": {},
   "outputs": [],
   "source": [
    "preds = bst.predict(data_test)"
   ]
  },
  {
   "cell_type": "code",
   "execution_count": 176,
   "metadata": {},
   "outputs": [
    {
     "data": {
      "text/plain": [
       "array([[9.69198631e-01, 3.03080876e-02, 4.93281025e-04],\n",
       "       [9.99976037e-01, 8.39384049e-07, 2.31237062e-05],\n",
       "       [4.90146453e-02, 8.50417993e-02, 8.65943555e-01],\n",
       "       ...,\n",
       "       [2.40709003e-03, 9.94897162e-01, 2.69574762e-03],\n",
       "       [9.98031950e-01, 1.78429043e-04, 1.78962054e-03],\n",
       "       [9.99559500e-01, 2.02128217e-04, 2.38372149e-04]])"
      ]
     },
     "execution_count": 176,
     "metadata": {},
     "output_type": "execute_result"
    }
   ],
   "source": [
    "preds"
   ]
  },
  {
   "cell_type": "code",
   "execution_count": 177,
   "metadata": {},
   "outputs": [],
   "source": [
    "yhat = np.argmax((preds), axis=1)"
   ]
  },
  {
   "cell_type": "code",
   "execution_count": 178,
   "metadata": {},
   "outputs": [
    {
     "data": {
      "text/plain": [
       "array([0, 0, 2, ..., 1, 0, 0])"
      ]
     },
     "execution_count": 178,
     "metadata": {},
     "output_type": "execute_result"
    }
   ],
   "source": [
    "yhat"
   ]
  },
  {
   "cell_type": "code",
   "execution_count": 179,
   "metadata": {},
   "outputs": [
    {
     "data": {
      "text/plain": [
       "0.8596135743538732"
      ]
     },
     "execution_count": 179,
     "metadata": {},
     "output_type": "execute_result"
    }
   ],
   "source": [
    "f1_score(true, yhat, average = \"macro\")"
   ]
  },
  {
   "cell_type": "code",
   "execution_count": 180,
   "metadata": {},
   "outputs": [
    {
     "data": {
      "text/plain": [
       "array([[    0,     1,     2],\n",
       "       [13333,  5000,  5000]])"
      ]
     },
     "execution_count": 180,
     "metadata": {},
     "output_type": "execute_result"
    }
   ],
   "source": [
    "unique_elements, counts_elements = np.unique(true, return_counts=True)\n",
    "np.asarray((unique_elements, counts_elements))"
   ]
  },
  {
   "cell_type": "code",
   "execution_count": 181,
   "metadata": {},
   "outputs": [
    {
     "data": {
      "text/plain": [
       "array([[    0,     1,     2],\n",
       "       [12883,  5154,  5296]])"
      ]
     },
     "execution_count": 181,
     "metadata": {},
     "output_type": "execute_result"
    }
   ],
   "source": [
    "unique_elements, counts_elements = np.unique(yhat, return_counts=True)\n",
    "np.asarray((unique_elements, counts_elements))"
   ]
  },
  {
   "cell_type": "code",
   "execution_count": 182,
   "metadata": {},
   "outputs": [
    {
     "data": {
      "text/plain": [
       "objid      int64\n",
       "u_0       object\n",
       "g_0       object\n",
       "r_0       object\n",
       "i_0       object\n",
       "z_0       object\n",
       "clean      int64\n",
       "rowv      object\n",
       "colv      object\n",
       "u_1      float64\n",
       "g_1      float64\n",
       "r_1      float64\n",
       "i_1      float64\n",
       "z_1      float64\n",
       "u_2      float64\n",
       "g_2      float64\n",
       "r_2      float64\n",
       "i_2      float64\n",
       "z_2      float64\n",
       "u_3       object\n",
       "g_3       object\n",
       "r_3       object\n",
       "i_3       object\n",
       "z_3       object\n",
       "u_4       object\n",
       "g_4       object\n",
       "r_4       object\n",
       "i_4       object\n",
       "z_4       object\n",
       "u_5       object\n",
       "g_5       object\n",
       "r_5       object\n",
       "i_5       object\n",
       "z_5       object\n",
       "u_6        int64\n",
       "g_6        int64\n",
       "r_6        int64\n",
       "i_6        int64\n",
       "z_6        int64\n",
       "class      int64\n",
       "dtype: object"
      ]
     },
     "execution_count": 182,
     "metadata": {},
     "output_type": "execute_result"
    }
   ],
   "source": [
    "train.dtypes"
   ]
  },
  {
   "cell_type": "code",
   "execution_count": 94,
   "metadata": {
    "colab": {
     "autoexec": {
      "startup": false,
      "wait_interval": 0
     },
     "base_uri": "https://localhost:8080/",
     "height": 37
    },
    "colab_type": "code",
    "executionInfo": {
     "elapsed": 880,
     "status": "ok",
     "timestamp": 1531325566649,
     "user": {
      "displayName": "Богдан Пуйда",
      "photoUrl": "https://lh3.googleusercontent.com/a/default-user=s128",
      "userId": "102625359743870844302"
     },
     "user_tz": -180
    },
    "id": "5tTs7_MjCOQW",
    "outputId": "5d139dfd-eda6-4bc2-c57b-f5ba0d72c4c4"
   },
   "outputs": [],
   "source": [
    "for train_index, test_index in kf.split(data):\n",
    "    X_train, X_test = data[train_index], data[test_index]\n",
    "    y_train, y_test = y[train_index], y[test_index]"
   ]
  },
  {
   "cell_type": "code",
   "execution_count": 95,
   "metadata": {
    "colab": {
     "autoexec": {
      "startup": false,
      "wait_interval": 0
     },
     "base_uri": "https://localhost:8080/",
     "height": 34
    },
    "colab_type": "code",
    "executionInfo": {
     "elapsed": 554,
     "status": "ok",
     "timestamp": 1531325567412,
     "user": {
      "displayName": "Богдан Пуйда",
      "photoUrl": "https://lh3.googleusercontent.com/a/default-user=s128",
      "userId": "102625359743870844302"
     },
     "user_tz": -180
    },
    "id": "ljcn892_ChBH",
    "outputId": "3facb10c-a8e6-45a9-f9a7-de35919a7d49"
   },
   "outputs": [
    {
     "data": {
      "text/plain": [
       "(26667, 38)"
      ]
     },
     "execution_count": 95,
     "metadata": {
      "tags": []
     },
     "output_type": "execute_result"
    }
   ],
   "source": [
    "X_train.shape"
   ]
  },
  {
   "cell_type": "code",
   "execution_count": 96,
   "metadata": {
    "colab": {
     "autoexec": {
      "startup": false,
      "wait_interval": 0
     },
     "base_uri": "https://localhost:8080/",
     "height": 34
    },
    "colab_type": "code",
    "executionInfo": {
     "elapsed": 545,
     "status": "ok",
     "timestamp": 1531325568995,
     "user": {
      "displayName": "Богдан Пуйда",
      "photoUrl": "https://lh3.googleusercontent.com/a/default-user=s128",
      "userId": "102625359743870844302"
     },
     "user_tz": -180
    },
    "id": "zu7K9sT5CrqH",
    "outputId": "4475570d-e3bc-4eab-8b89-940b20330678"
   },
   "outputs": [
    {
     "data": {
      "text/plain": [
       "(3333, 38)"
      ]
     },
     "execution_count": 96,
     "metadata": {
      "tags": []
     },
     "output_type": "execute_result"
    }
   ],
   "source": [
    "X_test.shape"
   ]
  },
  {
   "cell_type": "code",
   "execution_count": 90,
   "metadata": {
    "colab": {
     "autoexec": {
      "startup": false,
      "wait_interval": 0
     },
     "base_uri": "https://localhost:8080/",
     "height": 34
    },
    "colab_type": "code",
    "executionInfo": {
     "elapsed": 549,
     "status": "ok",
     "timestamp": 1531325471584,
     "user": {
      "displayName": "Богдан Пуйда",
      "photoUrl": "https://lh3.googleusercontent.com/a/default-user=s128",
      "userId": "102625359743870844302"
     },
     "user_tz": -180
    },
    "id": "DJ6URNELCv14",
    "outputId": "d0436a9f-6a92-4834-be0c-7e56e5d61861"
   },
   "outputs": [
    {
     "data": {
      "text/plain": [
       "(25000,)"
      ]
     },
     "execution_count": 90,
     "metadata": {
      "tags": []
     },
     "output_type": "execute_result"
    }
   ],
   "source": [
    "y_train.shape"
   ]
  },
  {
   "cell_type": "code",
   "execution_count": 91,
   "metadata": {
    "colab": {
     "autoexec": {
      "startup": false,
      "wait_interval": 0
     },
     "base_uri": "https://localhost:8080/",
     "height": 34
    },
    "colab_type": "code",
    "executionInfo": {
     "elapsed": 634,
     "status": "ok",
     "timestamp": 1531325478432,
     "user": {
      "displayName": "Богдан Пуйда",
      "photoUrl": "https://lh3.googleusercontent.com/a/default-user=s128",
      "userId": "102625359743870844302"
     },
     "user_tz": -180
    },
    "id": "80xkAu98Cy4Z",
    "outputId": "a822bea3-e0b1-4062-ee28-797c9b4f0655"
   },
   "outputs": [
    {
     "data": {
      "text/plain": [
       "(5000,)"
      ]
     },
     "execution_count": 91,
     "metadata": {
      "tags": []
     },
     "output_type": "execute_result"
    }
   ],
   "source": [
    "y_test.shape"
   ]
  },
  {
   "cell_type": "code",
   "execution_count": 265,
   "metadata": {
    "colab": {
     "autoexec": {
      "startup": false,
      "wait_interval": 0
     },
     "base_uri": "https://localhost:8080/",
     "height": 17
    },
    "colab_type": "code",
    "executionInfo": {
     "elapsed": 558,
     "status": "ok",
     "timestamp": 1531325851030,
     "user": {
      "displayName": "Богдан Пуйда",
      "photoUrl": "https://lh3.googleusercontent.com/a/default-user=s128",
      "userId": "102625359743870844302"
     },
     "user_tz": -180
    },
    "id": "JQerOZ1dC4rY",
    "outputId": "4b7877c7-7b99-4951-9e6d-7c7ff299e51d"
   },
   "outputs": [],
   "source": [
    "NFOLDS = 4"
   ]
  },
  {
   "cell_type": "code",
   "execution_count": 275,
   "metadata": {},
   "outputs": [],
   "source": [
    "train4 = train.shape[0]"
   ]
  },
  {
   "cell_type": "code",
   "execution_count": 276,
   "metadata": {},
   "outputs": [
    {
     "data": {
      "text/plain": [
       "30000"
      ]
     },
     "execution_count": 276,
     "metadata": {},
     "output_type": "execute_result"
    }
   ],
   "source": [
    "train4"
   ]
  },
  {
   "cell_type": "code",
   "execution_count": 333,
   "metadata": {},
   "outputs": [
    {
     "data": {
      "text/plain": [
       "array([[-0.98761863, -1.3848917 ,  0.        , ..., -0.21667578,\n",
       "        -0.67243707,  0.68525258],\n",
       "       [ 1.20708368,  0.7804843 ,  1.17892468, ...,  0.26798522,\n",
       "         0.34085434, -1.10646562],\n",
       "       [ 1.06078267,  1.41057192,  1.18844152, ...,  0.26798522,\n",
       "        -0.67243707,  0.08801318],\n",
       "       ...,\n",
       "       [ 0.        ,  1.04146433,  1.52722386, ..., -1.18599777,\n",
       "        -1.68572848,  0.08801318],\n",
       "       [ 0.        ,  2.20022729,  1.42510559, ...,  0.26798522,\n",
       "        -1.68572848, -1.10646562],\n",
       "       [ 0.        , -0.25373598,  0.01967067, ..., -0.21667578,\n",
       "         1.86079146, -0.50922622]])"
      ]
     },
     "execution_count": 333,
     "metadata": {},
     "output_type": "execute_result"
    }
   ],
   "source": [
    "data_test"
   ]
  },
  {
   "cell_type": "code",
   "execution_count": 488,
   "metadata": {
    "colab": {
     "autoexec": {
      "startup": false,
      "wait_interval": 0
     }
    },
    "colab_type": "code",
    "id": "8wkKfeX3Ii4h"
   },
   "outputs": [],
   "source": [
    "SEED = 42"
   ]
  },
  {
   "cell_type": "code",
   "execution_count": 489,
   "metadata": {},
   "outputs": [],
   "source": [
    "from sklearn.cross_validation import KFold"
   ]
  },
  {
   "cell_type": "code",
   "execution_count": 490,
   "metadata": {},
   "outputs": [],
   "source": [
    "data=data2\n",
    "y=y2"
   ]
  },
  {
   "cell_type": "code",
   "execution_count": 506,
   "metadata": {
    "colab": {
     "autoexec": {
      "startup": false,
      "wait_interval": 0
     },
     "base_uri": "https://localhost:8080/",
     "height": 231
    },
    "colab_type": "code",
    "executionInfo": {
     "elapsed": 533,
     "status": "error",
     "timestamp": 1531325838033,
     "user": {
      "displayName": "Богдан Пуйда",
      "photoUrl": "https://lh3.googleusercontent.com/a/default-user=s128",
      "userId": "102625359743870844302"
     },
     "user_tz": -180
    },
    "id": "CV8EpU7hHWG6",
    "outputId": "2801d87c-6af7-4ef2-f9d3-50d3b84693dd"
   },
   "outputs": [],
   "source": [
    "ntrain = data.shape[0]\n",
    "ntest = data_test.shape[0]\n",
    "NFOLDS = 3\n",
    "kf = KFold(ntrain, n_folds= NFOLDS, random_state=SEED)\n",
    "\n",
    "class SklearnWrapper(object):\n",
    "    def __init__(self, clf, seed=0, params=None):\n",
    "        params['random_state'] = seed\n",
    "        self.clf = clf(**params)\n",
    "\n",
    "    def train(self, x_train, y_train):\n",
    "        self.clf.fit(x_train, y_train)\n",
    "\n",
    "    def predict(self, x):\n",
    "        return self.clf.predict(x)\n",
    "\n",
    "\n",
    "class XgbWrapper(object):\n",
    "    def __init__(self, seed=0, params=None):\n",
    "        self.param = params\n",
    "        self.param['seed'] = seed\n",
    "        self.nrounds = params.pop('nrounds', 250)\n",
    "\n",
    "    def train(self, x_train, y_train):\n",
    "        dtrain = xgb.DMatrix(x_train, label=y_train)\n",
    "        self.gbdt = xgb.train(self.param, dtrain, self.nrounds)\n",
    "\n",
    "    def predict(self, x):\n",
    "        return self.gbdt.predict(xgb.DMatrix(x))\n",
    "\n",
    "\n",
    "def get_oof(clf):\n",
    "    oof_train = np.zeros((ntrain,))\n",
    "    oof_test = np.zeros((ntest,))\n",
    "    oof_test_skf = np.empty((NFOLDS, ntest))\n",
    "\n",
    "    for i, (train_index, test_index) in enumerate(kf):\n",
    "        x_tr = data[train_index]\n",
    "        y_tr = y[train_index]\n",
    "        x_te = data[test_index]\n",
    "\n",
    "        clf.train(x_tr, y_tr)\n",
    "\n",
    "        oof_train[test_index] = clf.predict(x_te)\n",
    "        oof_test_skf[i, :] = clf.predict(data_test)\n",
    "\n",
    "    oof_test[:] = oof_test_skf.mean(axis=0)\n",
    "    return oof_train.reshape(-1, 1), oof_test.reshape(-1, 1)\n"
   ]
  },
  {
   "cell_type": "code",
   "execution_count": 515,
   "metadata": {
    "colab": {
     "autoexec": {
      "startup": false,
      "wait_interval": 0
     },
     "base_uri": "https://localhost:8080/",
     "height": 68
    },
    "colab_type": "code",
    "executionInfo": {
     "elapsed": 557,
     "status": "ok",
     "timestamp": 1531325948340,
     "user": {
      "displayName": "Богдан Пуйда",
      "photoUrl": "https://lh3.googleusercontent.com/a/default-user=s128",
      "userId": "102625359743870844302"
     },
     "user_tz": -180
    },
    "id": "kHkAWkjyIfBu",
    "outputId": "fe155e2e-bed1-4f81-b1eb-d878d171cb7f"
   },
   "outputs": [],
   "source": [
    "\n",
    "et_params = {\n",
    "    'n_estimators': 100,\n",
    "    'max_depth': 12,\n",
    "    'min_samples_leaf': 2\n",
    "}\n",
    "\n",
    "rf_params = {\n",
    "    'n_estimators': 100,\n",
    "    'max_depth': 15,\n",
    "    'min_samples_leaf': 2\n",
    "}\n",
    "\n",
    "xgb_params = {\n",
    "    'booster': 'dart',\n",
    "    'seed': 0,\n",
    "    'colsample_bytree': 0.8,\n",
    "    'sample_type': 'weighted',\n",
    "    'normalize_type':'forest',\n",
    "    'silent': 1,\n",
    "    'subsample': 0.7,\n",
    "    'learning_rate': 0.075,\n",
    "    'objective': 'multi:softmax',\n",
    "    'max_depth': 10,\n",
    "    'nrounds': 350,\n",
    "    'num_class': 3\n",
    "}\n",
    "\n",
    "xg = XgbWrapper(seed=SEED, params=xgb_params)\n",
    "et = SklearnWrapper(clf=ExtraTreesRegressor, seed=SEED, params=et_params)\n",
    "rf = SklearnWrapper(clf=RandomForestRegressor, seed=SEED, params=rf_params)\n",
    "\n"
   ]
  },
  {
   "cell_type": "code",
   "execution_count": null,
   "metadata": {},
   "outputs": [],
   "source": []
  },
  {
   "cell_type": "code",
   "execution_count": 514,
   "metadata": {},
   "outputs": [
    {
     "data": {
      "text/plain": [
       "array([0., 1., 2.])"
      ]
     },
     "execution_count": 514,
     "metadata": {},
     "output_type": "execute_result"
    }
   ],
   "source": []
  },
  {
   "cell_type": "code",
   "execution_count": null,
   "metadata": {},
   "outputs": [],
   "source": []
  },
  {
   "cell_type": "code",
   "execution_count": 517,
   "metadata": {},
   "outputs": [],
   "source": [
    "x_train = np.concatenate((xg_oof_train, et_oof_train, rf_oof_train), axis=1)\n",
    "x_test = np.concatenate((xg_oof_test, et_oof_test, rf_oof_test), axis=1)\n",
    "\n",
    "dtrain = xgb.DMatrix(x_train, label=y)\n",
    "dtest = xgb.DMatrix(x_test)\n",
    "\n",
    "xgb_params = {\n",
    "    'seed': 148,\n",
    "    'colsample_bytree': 0.8,\n",
    "    'silent': 1,\n",
    "    'subsample': 0.6,\n",
    "    'learning_rate': 0.01,\n",
    "    'objective': 'multi:softmax',\n",
    "    'max_depth': 4,\n",
    "    'num_parallel_tree': 1,\n",
    "    'min_child_weight': 1,\n",
    "    'num_class': 3\n",
    "}\n",
    "\n",
    "\n",
    "\n",
    "\n",
    "gbdt = xgb.train(xgb_params, dtrain)\n",
    "\n",
    "yhat = gbdt.predict(dtest)\n"
   ]
  },
  {
   "cell_type": "code",
   "execution_count": null,
   "metadata": {},
   "outputs": [],
   "source": []
  },
  {
   "cell_type": "code",
   "execution_count": null,
   "metadata": {
    "colab": {
     "autoexec": {
      "startup": false,
      "wait_interval": 0
     },
     "base_uri": "https://localhost:8080/",
     "height": 51
    },
    "colab_type": "code",
    "executionInfo": {
     "elapsed": 692,
     "status": "ok",
     "timestamp": 1531325959596,
     "user": {
      "displayName": "Богдан Пуйда",
      "photoUrl": "https://lh3.googleusercontent.com/a/default-user=s128",
      "userId": "102625359743870844302"
     },
     "user_tz": -180
    },
    "id": "WVA5ufjAI29B",
    "outputId": "f98c8b72-304e-41a6-b2e6-874f16ad078c"
   },
   "outputs": [],
   "source": []
  },
  {
   "cell_type": "code",
   "execution_count": 518,
   "metadata": {
    "colab": {
     "autoexec": {
      "startup": false,
      "wait_interval": 0
     },
     "base_uri": "https://localhost:8080/",
     "height": 34
    },
    "colab_type": "code",
    "executionInfo": {
     "elapsed": 535,
     "status": "ok",
     "timestamp": 1531325970884,
     "user": {
      "displayName": "Богдан Пуйда",
      "photoUrl": "https://lh3.googleusercontent.com/a/default-user=s128",
      "userId": "102625359743870844302"
     },
     "user_tz": -180
    },
    "id": "F4R_SeNCI8qw",
    "outputId": "e4a702cd-aa49-4958-b1d0-8c2f7bd88ff0"
   },
   "outputs": [
    {
     "data": {
      "text/plain": [
       "0.8474961179667423"
      ]
     },
     "execution_count": 518,
     "metadata": {},
     "output_type": "execute_result"
    }
   ],
   "source": [
    "f1_score(true, yhat, average = \"macro\")"
   ]
  },
  {
   "cell_type": "code",
   "execution_count": 315,
   "metadata": {
    "colab": {
     "autoexec": {
      "startup": false,
      "wait_interval": 0
     },
     "base_uri": "https://localhost:8080/",
     "height": 51
    },
    "colab_type": "code",
    "executionInfo": {
     "elapsed": 568,
     "status": "ok",
     "timestamp": 1531325986558,
     "user": {
      "displayName": "Богдан Пуйда",
      "photoUrl": "https://lh3.googleusercontent.com/a/default-user=s128",
      "userId": "102625359743870844302"
     },
     "user_tz": -180
    },
    "id": "zO0f2fhdI-ch",
    "outputId": "b8f703d4-1c29-49d4-f256-fe583e5f3d88"
   },
   "outputs": [],
   "source": []
  },
  {
   "cell_type": "code",
   "execution_count": null,
   "metadata": {
    "colab": {
     "autoexec": {
      "startup": false,
      "wait_interval": 0
     },
     "base_uri": "https://localhost:8080/",
     "height": 34
    },
    "colab_type": "code",
    "executionInfo": {
     "elapsed": 512,
     "status": "ok",
     "timestamp": 1531325990967,
     "user": {
      "displayName": "Богдан Пуйда",
      "photoUrl": "https://lh3.googleusercontent.com/a/default-user=s128",
      "userId": "102625359743870844302"
     },
     "user_tz": -180
    },
    "id": "6rdTSOxCJBmB",
    "outputId": "1cd2ffd9-3c6f-4623-fa4f-76ada567aa92"
   },
   "outputs": [],
   "source": []
  },
  {
   "cell_type": "code",
   "execution_count": 0,
   "metadata": {
    "colab": {
     "autoexec": {
      "startup": false,
      "wait_interval": 0
     }
    },
    "colab_type": "code",
    "id": "-TsPbkQ7JEXi"
   },
   "outputs": [],
   "source": []
  }
 ],
 "metadata": {
  "colab": {
   "default_view": {},
   "name": "stacking.ipynb",
   "provenance": [],
   "version": "0.3.2",
   "views": {}
  },
  "kernelspec": {
   "display_name": "Python 3",
   "language": "python",
   "name": "python3"
  },
  "language_info": {
   "codemirror_mode": {
    "name": "ipython",
    "version": 3
   },
   "file_extension": ".py",
   "mimetype": "text/x-python",
   "name": "python",
   "nbconvert_exporter": "python",
   "pygments_lexer": "ipython3",
   "version": "3.5.2"
  }
 },
 "nbformat": 4,
 "nbformat_minor": 1
}
